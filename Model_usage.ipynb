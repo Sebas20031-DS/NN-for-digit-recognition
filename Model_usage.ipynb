{
 "cells": [
  {
   "cell_type": "markdown",
   "metadata": {},
   "source": [
    "## *Libraries*"
   ]
  },
  {
   "cell_type": "code",
   "execution_count": 1,
   "metadata": {},
   "outputs": [],
   "source": [
    "# LIBRARIES NEEDED\n",
    "# %pip install opencv-python\n",
    "# %pip install tensorflow\n",
    "# %pip install numpy\n",
    "# %pip install matplotlib\n",
    "\n",
    "# Libraries\n",
    "import cv2\n",
    "import tensorflow as tf\n",
    "import numpy as np\n",
    "import matplotlib.pyplot as plt"
   ]
  },
  {
   "cell_type": "markdown",
   "metadata": {},
   "source": [
    "## *Load the model and true labels of data*"
   ]
  },
  {
   "cell_type": "code",
   "execution_count": 2,
   "metadata": {},
   "outputs": [],
   "source": [
    "# Load the model saved in the native Keras format\n",
    "# change the model_path with the specific directory you store the model with name M1_digit_rec.keras\n",
    "model_path = 'D:/Projects/Digit recognition/M1_digit_rec.keras'\n",
    "model = tf.keras.models.load_model(model_path)\n",
    "\n",
    "# The true labels of each sample in Digit example folders, \n",
    "# IF YOU USE ANOTHER SET OF SAMPLES THEN CHANGE THEM TO THE TRUE LABELS OF YOUR DATA\n",
    "y_true = [8, 9, 1, 3, 2, 4, 5, 6, 8, 3, 2, 1, 4, 6, 0, 5, 1, 5, 3, 2, 4, 2, 8, 3, 6, 3, 4, 8, 0, 3]"
   ]
  },
  {
   "cell_type": "markdown",
   "metadata": {},
   "source": [
    "## *Prove the model with the handwritten digits*"
   ]
  },
  {
   "cell_type": "code",
   "execution_count": 3,
   "metadata": {},
   "outputs": [
    {
     "data": {
      "image/png": "[encoded data removed]",
      "text/plain": [
       "<Figure size 640x480 with 1 Axes>"
      ]
     },
     "metadata": {},
     "output_type": "display_data"
    },
    {
     "name": "stdout",
     "output_type": "stream",
     "text": [
      "\u001b[1m1/1\u001b[0m \u001b[32m━━━━━━━━━━━━━━━━━━━━\u001b[0m\u001b[37m\u001b[0m \u001b[1m0s\u001b[0m 63ms/step\n",
      "prediction of the model:  4\n"
     ]
    }
   ],
   "source": [
    "# Number of the image you want to test in the Digit captures folder\n",
    "num = 6\n",
    "\n",
    "# Assuming you have downloaded the Digit example folder from the repository\n",
    "img = cv2.imread(f\"Digit example/{num}.png\")[:,:,0]\n",
    "\n",
    "# Plot the image\n",
    "plt.imshow(img, cmap='gray')  # Display the image in grayscale\n",
    "plt.axis('off')  # Turn off axis labels\n",
    "plt.title(f'Sample Image n: {num}')  # Add a title to the plot\n",
    "plt.show()  # Display the plot\n",
    "\n",
    "# Read the image, preprocess it, and normalize\n",
    "img = cv2.resize(img, (28, 28))\n",
    "img = np.invert(np.array([img]))\n",
    "img = tf.keras.utils.normalize(img, axis=1)\n",
    "\n",
    "# Predict class probabilities for the sample using the provided model\n",
    "prediction = model.predict(img)\n",
    "yhat = np.argmax(prediction, axis = 1)\n",
    "print('prediction of the model: ', yhat[0])"
   ]
  },
  {
   "cell_type": "markdown",
   "metadata": {},
   "source": [
    "## *Compare with all the handwritten digits*"
   ]
  },
  {
   "cell_type": "markdown",
   "metadata": {},
   "source": [
    "If you intend to use your own samples, ensure to adjust the directory path in line 12 of the following function to point to the folder containing your samples. Enumerate the samples from 1 to n, and remember to update the 'y_true' variable in the 'Load the model and true labels of data' section with the correct labels corresponding to each sample."
   ]
  },
  {
   "cell_type": "code",
   "execution_count": 4,
   "metadata": {},
   "outputs": [],
   "source": [
    "def prediction_accuracy(model, y_true):\n",
    "\n",
    "    # List to save the predictions made by the model\n",
    "    predictions = []\n",
    "\n",
    "    # Get the number of samples to test\n",
    "    samples_length = len(y_true)\n",
    "\n",
    "    # Loop through each sample\n",
    "    for i in range(samples_length):\n",
    "        # Read the image, preprocess it, and normalize\n",
    "        img = cv2.imread(f\"Digit example/{i+1}.png\")[:, :, 0]\n",
    "        img = cv2.resize(img, (28, 28))\n",
    "        img = np.invert(np.array([img]))\n",
    "        img = tf.keras.utils.normalize(img, axis=1)\n",
    "\n",
    "        # Predict class probabilities for the sample using the provided model\n",
    "        prediction_i = model.predict(img) \n",
    "\n",
    "        # Get the predicted class label\n",
    "        yhat = np.argmax(prediction_i, axis=1)\n",
    "\n",
    "        # Append the predicted label to the list of predictions\n",
    "        predictions.append(yhat)\n",
    "\n",
    "    # Initialize counter for correct predictions\n",
    "    predicted = 0\n",
    "\n",
    "    # Loop through each sample and compare predicted labels with true labels\n",
    "    for i in range(samples_length):\n",
    "        if predictions[i] == y_true[i]:  # Check if the prediction matches the true label\n",
    "            predicted += 1  # Increment the counter for correct predictions\n",
    "        else:\n",
    "            # Print the error when prediction doesn't match the true label\n",
    "            print(f\"Error in sample number {i+1}:  predicted label: {predictions[i]}  |  expected label: {y_true[i]}\")\n",
    "\n",
    "    return predicted  # Return the number of correct predictions"
   ]
  },
  {
   "cell_type": "code",
   "execution_count": 5,
   "metadata": {},
   "outputs": [
    {
     "name": "stdout",
     "output_type": "stream",
     "text": [
      "\u001b[1m1/1\u001b[0m \u001b[32m━━━━━━━━━━━━━━━━━━━━\u001b[0m\u001b[37m\u001b[0m \u001b[1m0s\u001b[0m 33ms/step\n",
      "\u001b[1m1/1\u001b[0m \u001b[32m━━━━━━━━━━━━━━━━━━━━\u001b[0m\u001b[37m\u001b[0m \u001b[1m0s\u001b[0m 26ms/step\n",
      "\u001b[1m1/1\u001b[0m \u001b[32m━━━━━━━━━━━━━━━━━━━━\u001b[0m\u001b[37m\u001b[0m \u001b[1m0s\u001b[0m 24ms/step\n",
      "\u001b[1m1/1\u001b[0m \u001b[32m━━━━━━━━━━━━━━━━━━━━\u001b[0m\u001b[37m\u001b[0m \u001b[1m0s\u001b[0m 30ms/step\n",
      "\u001b[1m1/1\u001b[0m \u001b[32m━━━━━━━━━━━━━━━━━━━━\u001b[0m\u001b[37m\u001b[0m \u001b[1m0s\u001b[0m 41ms/step\n",
      "\u001b[1m1/1\u001b[0m \u001b[32m━━━━━━━━━━━━━━━━━━━━\u001b[0m\u001b[37m\u001b[0m \u001b[1m0s\u001b[0m 31ms/step\n",
      "\u001b[1m1/1\u001b[0m \u001b[32m━━━━━━━━━━━━━━━━━━━━\u001b[0m\u001b[37m\u001b[0m \u001b[1m0s\u001b[0m 21ms/step\n",
      "\u001b[1m1/1\u001b[0m \u001b[32m━━━━━━━━━━━━━━━━━━━━\u001b[0m\u001b[37m\u001b[0m \u001b[1m0s\u001b[0m 26ms/step\n",
      "\u001b[1m1/1\u001b[0m \u001b[32m━━━━━━━━━━━━━━━━━━━━\u001b[0m\u001b[37m\u001b[0m \u001b[1m0s\u001b[0m 23ms/step\n",
      "\u001b[1m1/1\u001b[0m \u001b[32m━━━━━━━━━━━━━━━━━━━━\u001b[0m\u001b[37m\u001b[0m \u001b[1m0s\u001b[0m 28ms/step\n",
      "\u001b[1m1/1\u001b[0m \u001b[32m━━━━━━━━━━━━━━━━━━━━\u001b[0m\u001b[37m\u001b[0m \u001b[1m0s\u001b[0m 23ms/step\n",
      "\u001b[1m1/1\u001b[0m \u001b[32m━━━━━━━━━━━━━━━━━━━━\u001b[0m\u001b[37m\u001b[0m \u001b[1m0s\u001b[0m 32ms/step\n",
      "\u001b[1m1/1\u001b[0m \u001b[32m━━━━━━━━━━━━━━━━━━━━\u001b[0m\u001b[37m\u001b[0m \u001b[1m0s\u001b[0m 33ms/step\n",
      "\u001b[1m1/1\u001b[0m \u001b[32m━━━━━━━━━━━━━━━━━━━━\u001b[0m\u001b[37m\u001b[0m \u001b[1m0s\u001b[0m 28ms/step\n",
      "\u001b[1m1/1\u001b[0m \u001b[32m━━━━━━━━━━━━━━━━━━━━\u001b[0m\u001b[37m\u001b[0m \u001b[1m0s\u001b[0m 62ms/step\n",
      "\u001b[1m1/1\u001b[0m \u001b[32m━━━━━━━━━━━━━━━━━━━━\u001b[0m\u001b[37m\u001b[0m \u001b[1m0s\u001b[0m 24ms/step\n",
      "\u001b[1m1/1\u001b[0m \u001b[32m━━━━━━━━━━━━━━━━━━━━\u001b[0m\u001b[37m\u001b[0m \u001b[1m0s\u001b[0m 21ms/step\n",
      "\u001b[1m1/1\u001b[0m \u001b[32m━━━━━━━━━━━━━━━━━━━━\u001b[0m\u001b[37m\u001b[0m \u001b[1m0s\u001b[0m 27ms/step\n",
      "\u001b[1m1/1\u001b[0m \u001b[32m━━━━━━━━━━━━━━━━━━━━\u001b[0m\u001b[37m\u001b[0m \u001b[1m0s\u001b[0m 25ms/step\n",
      "\u001b[1m1/1\u001b[0m \u001b[32m━━━━━━━━━━━━━━━━━━━━\u001b[0m\u001b[37m\u001b[0m \u001b[1m0s\u001b[0m 25ms/step\n",
      "\u001b[1m1/1\u001b[0m \u001b[32m━━━━━━━━━━━━━━━━━━━━\u001b[0m\u001b[37m\u001b[0m \u001b[1m0s\u001b[0m 24ms/step\n",
      "\u001b[1m1/1\u001b[0m \u001b[32m━━━━━━━━━━━━━━━━━━━━\u001b[0m\u001b[37m\u001b[0m \u001b[1m0s\u001b[0m 23ms/step\n",
      "\u001b[1m1/1\u001b[0m \u001b[32m━━━━━━━━━━━━━━━━━━━━\u001b[0m\u001b[37m\u001b[0m \u001b[1m0s\u001b[0m 25ms/step\n",
      "\u001b[1m1/1\u001b[0m \u001b[32m━━━━━━━━━━━━━━━━━━━━\u001b[0m\u001b[37m\u001b[0m \u001b[1m0s\u001b[0m 24ms/step\n",
      "\u001b[1m1/1\u001b[0m \u001b[32m━━━━━━━━━━━━━━━━━━━━\u001b[0m\u001b[37m\u001b[0m \u001b[1m0s\u001b[0m 25ms/step\n",
      "\u001b[1m1/1\u001b[0m \u001b[32m━━━━━━━━━━━━━━━━━━━━\u001b[0m\u001b[37m\u001b[0m \u001b[1m0s\u001b[0m 23ms/step\n",
      "\u001b[1m1/1\u001b[0m \u001b[32m━━━━━━━━━━━━━━━━━━━━\u001b[0m\u001b[37m\u001b[0m \u001b[1m0s\u001b[0m 25ms/step\n",
      "\u001b[1m1/1\u001b[0m \u001b[32m━━━━━━━━━━━━━━━━━━━━\u001b[0m\u001b[37m\u001b[0m \u001b[1m0s\u001b[0m 25ms/step\n",
      "\u001b[1m1/1\u001b[0m \u001b[32m━━━━━━━━━━━━━━━━━━━━\u001b[0m\u001b[37m\u001b[0m \u001b[1m0s\u001b[0m 23ms/step\n",
      "\u001b[1m1/1\u001b[0m \u001b[32m━━━━━━━━━━━━━━━━━━━━\u001b[0m\u001b[37m\u001b[0m \u001b[1m0s\u001b[0m 25ms/step\n",
      "Error in sample number 2:  predicted label: [7]  |  expected label: 9\n",
      "Error in sample number 9:  predicted label: [2]  |  expected label: 8\n",
      "Error in sample number 14:  predicted label: [5]  |  expected label: 6\n",
      "Error in sample number 25:  predicted label: [5]  |  expected label: 6\n",
      "\n",
      "accuracy of the model in ramdom samples: \n",
      "86.67%\n"
     ]
    }
   ],
   "source": [
    "accuracy_m = prediction_accuracy(model, y_true)\n",
    "accuracy = accuracy_m / len(y_true)\n",
    "\n",
    "print(\"\\naccuracy of the model in ramdom samples: \")\n",
    "print(f\"{accuracy * 100:.2f}%\") "
   ]
  }
 ],
 "metadata": {
  "kernelspec": {
   "display_name": "Python 3",
   "language": "python",
   "name": "python3"
  },
  "language_info": {
   "codemirror_mode": {
    "name": "ipython",
    "version": 3
   },
   "file_extension": ".py",
   "mimetype": "text/x-python",
   "name": "python",
   "nbconvert_exporter": "python",
   "pygments_lexer": "ipython3",
   "version": "3.12.1"
  }
 },
 "nbformat": 4,
 "nbformat_minor": 2
}
